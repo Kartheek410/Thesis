{
  "nbformat": 4,
  "nbformat_minor": 0,
  "metadata": {
    "colab": {
      "name": "Untitled0.ipynb",
      "version": "0.3.2",
      "provenance": [],
      "collapsed_sections": [],
      "include_colab_link": true
    },
    "kernelspec": {
      "name": "python3",
      "display_name": "Python 3"
    }
  },
  "cells": [
    {
      "cell_type": "markdown",
      "metadata": {
        "id": "view-in-github",
        "colab_type": "text"
      },
      "source": [
        "[![Open In Colab](https://colab.research.google.com/assets/colab-badge.svg)](https://colab.research.google.com/github/Kartheek410/Thesis/blob/master/Untitled0.ipynb)"
      ]
    },
    {
      "metadata": {
        "id": "UosxGK7BORLI",
        "colab_type": "code",
        "colab": {}
      },
      "cell_type": "code",
      "source": [
        "import keras\n",
        "import pandas\n",
        "import numpy as np"
      ],
      "execution_count": 0,
      "outputs": []
    },
    {
      "metadata": {
        "id": "KOuXuj5fO43m",
        "colab_type": "code",
        "colab": {}
      },
      "cell_type": "code",
      "source": [
        "!add-apt-repository -y ppa:alessandro-strada/ppa 2>&1 > /dev/null"
      ],
      "execution_count": 0,
      "outputs": []
    },
    {
      "metadata": {
        "id": "0Ifve6mIO6R-",
        "colab_type": "code",
        "colab": {
          "base_uri": "https://localhost:8080/",
          "height": 127
        },
        "outputId": "2001d77c-0f7f-4d29-87a9-fdcd487bf5e8"
      },
      "cell_type": "code",
      "source": [
        "from google.colab import drive\n",
        "drive.mount('/content/drive')"
      ],
      "execution_count": 3,
      "outputs": [
        {
          "output_type": "stream",
          "text": [
            "Go to this URL in a browser: https://accounts.google.com/o/oauth2/auth?client_id=947318989803-6bn6qk8qdgf4n4g3pfee6491hc0brc4i.apps.googleusercontent.com&redirect_uri=urn%3Aietf%3Awg%3Aoauth%3A2.0%3Aoob&scope=email%20https%3A%2F%2Fwww.googleapis.com%2Fauth%2Fdocs.test%20https%3A%2F%2Fwww.googleapis.com%2Fauth%2Fdrive%20https%3A%2F%2Fwww.googleapis.com%2Fauth%2Fdrive.photos.readonly%20https%3A%2F%2Fwww.googleapis.com%2Fauth%2Fpeopleapi.readonly&response_type=code\n",
            "\n",
            "Enter your authorization code:\n",
            "··········\n",
            "Mounted at /content/drive\n"
          ],
          "name": "stdout"
        }
      ]
    },
    {
      "metadata": {
        "id": "bjbqPc4rO9_E",
        "colab_type": "code",
        "colab": {}
      },
      "cell_type": "code",
      "source": [
        "!cp drive/My\\ Drive/lineitemSF1.tbl ."
      ],
      "execution_count": 0,
      "outputs": []
    },
    {
      "metadata": {
        "id": "hBBF_hSSTKK-",
        "colab_type": "code",
        "colab": {
          "base_uri": "https://localhost:8080/",
          "height": 3437
        },
        "outputId": "3ef261e9-9087-438f-c799-ab86ac14a302"
      },
      "cell_type": "code",
      "source": [
        "data = pandas.read_csv(\"lineitemSF1.tbl\",sep=\"|\")\n",
        "print(data)"
      ],
      "execution_count": 10,
      "outputs": [
        {
          "output_type": "stream",
          "text": [
            "               1  155190  7706  1.1  17  21168.23  0.04  0.02  N  O  \\\n",
            "0              1   67310  7311    2  36  45983.16  0.09  0.06  N  O   \n",
            "1              1   63700  3701    3   8  13309.60  0.10  0.02  N  O   \n",
            "2              1    2132  4633    4  28  28955.64  0.09  0.06  N  O   \n",
            "3              1   24027  1534    5  24  22824.48  0.10  0.04  N  O   \n",
            "4              1   15635   638    6  32  49620.16  0.07  0.02  N  O   \n",
            "5              2  106170  1191    1  38  44694.46  0.00  0.05  N  O   \n",
            "6              3    4297  1798    1  45  54058.05  0.06  0.00  R  F   \n",
            "7              3   19036  6540    2  49  46796.47  0.10  0.00  R  F   \n",
            "8              3  128449  3474    3  27  39890.88  0.06  0.07  A  F   \n",
            "9              3   29380  1883    4   2   2618.76  0.01  0.06  A  F   \n",
            "10             3  183095   650    5  28  32986.52  0.04  0.00  R  F   \n",
            "11             3   62143  9662    6  26  28733.64  0.10  0.02  A  F   \n",
            "12             4   88035  5560    1  30  30690.90  0.03  0.08  N  O   \n",
            "13             5  108570  8571    1  15  23678.55  0.02  0.04  R  F   \n",
            "14             5  123927  3928    2  26  50723.92  0.07  0.08  R  F   \n",
            "15             5   37531    35    3  50  73426.50  0.08  0.03  A  F   \n",
            "16             6  139636  2150    1  37  61998.31  0.08  0.03  A  F   \n",
            "17             7  182052  9607    1  12  13608.60  0.07  0.03  N  O   \n",
            "18             7  145243  7758    2   9  11594.16  0.08  0.08  N  O   \n",
            "19             7   94780  9799    3  46  81639.88  0.10  0.07  N  O   \n",
            "20             7  163073  3074    4  28  31809.96  0.03  0.04  N  O   \n",
            "21             7  151894  9440    5  38  73943.82  0.08  0.01  N  O   \n",
            "22             7   79251  1759    6  35  43058.75  0.06  0.03  N  O   \n",
            "23             7  157238  2269    7   5   6476.15  0.04  0.02  N  O   \n",
            "24            32   82704  7721    1  28  47227.60  0.05  0.08  N  O   \n",
            "25            32  197921   441    2  32  64605.44  0.02  0.00  N  O   \n",
            "26            32   44161  6666    3   2   2210.32  0.09  0.02  N  O   \n",
            "27            32    2743  7744    4   4   6582.96  0.09  0.03  N  O   \n",
            "28            32   85811  8320    5  44  79059.64  0.05  0.06  N  O   \n",
            "29            32   11615  4117    6   6   9159.66  0.04  0.03  N  O   \n",
            "...          ...     ...   ...  ...  ..       ...   ...   ... .. ..   \n",
            "6001184  5999968  143161  8190    1  13  15654.08  0.04  0.06  A  F   \n",
            "6001185  5999968   94639  4640    2  41  66978.83  0.08  0.07  A  F   \n",
            "6001186  5999968  183011  3012    3  48  52512.48  0.01  0.00  A  F   \n",
            "6001187  5999968   58218  5734    4  48  56458.08  0.02  0.07  A  F   \n",
            "6001188  5999968   55929  5930    5  38  71626.96  0.10  0.00  A  F   \n",
            "6001189  5999968  182919   474    6  41  82078.31  0.03  0.02  A  F   \n",
            "6001190  5999968  103669  3670    7  10  16726.60  0.08  0.03  A  F   \n",
            "6001191  5999969  157685  7686    1  15  26140.20  0.00  0.02  N  O   \n",
            "6001192  5999970   51044  8560    1  22  21890.88  0.00  0.08  N  O   \n",
            "6001193  5999970   82081  2082    2  49  52090.92  0.04  0.08  N  O   \n",
            "6001194  5999970  123008   545    3  32  32992.00  0.05  0.07  N  O   \n",
            "6001195  5999970  184826  4827    4   6  11464.92  0.09  0.01  N  O   \n",
            "6001196  5999970  167769  2802    5  38  69796.88  0.03  0.04  N  O   \n",
            "6001197  5999971   30247  2751    1  40  47089.60  0.09  0.01  N  O   \n",
            "6001198  5999971  144823  4824    2  38  70977.16  0.08  0.03  N  O   \n",
            "6001199  5999971   33994  9001    3  49  94471.51  0.03  0.02  N  O   \n",
            "6001200  5999971  132903  2904    4  19  36782.10  0.09  0.01  N  O   \n",
            "6001201  5999971   97922  7923    5  28  53757.76  0.10  0.06  N  O   \n",
            "6001202  5999971  161882  6915    6  15  29158.20  0.03  0.00  N  O   \n",
            "6001203  5999972  102942   473    1  33  64183.02  0.06  0.05  N  O   \n",
            "6001204  5999972  133109  8136    2  44  50252.40  0.08  0.00  N  O   \n",
            "6001205  5999972  152761  2762    3   3   5441.28  0.04  0.01  N  O   \n",
            "6001206  5999973  176345  1380    1  50  71067.00  0.04  0.01  N  O   \n",
            "6001207  5999974   25360  5361    1  24  30848.64  0.02  0.03  R  F   \n",
            "6001208  5999974   10463  5466    2  46  63179.16  0.08  0.06  R  F   \n",
            "6001209  5999975    7272  2273    1  32  37736.64  0.07  0.01  R  F   \n",
            "6001210  5999975    6452  1453    2   7   9509.15  0.04  0.00  A  F   \n",
            "6001211  5999975   37131  2138    3  18  19226.34  0.04  0.01  A  F   \n",
            "6001212  6000000   32255  2256    1   5   5936.25  0.04  0.03  N  O   \n",
            "6001213  6000000   96127  6128    2  28  31447.36  0.01  0.02  N  O   \n",
            "\n",
            "         1996-03-13  1996-02-12  1996-03-22  DELIVER IN PERSON    TRUCK  \\\n",
            "0        1996-04-12  1996-02-28  1996-04-20   TAKE BACK RETURN     MAIL   \n",
            "1        1996-01-29  1996-03-05  1996-01-31   TAKE BACK RETURN  REG AIR   \n",
            "2        1996-04-21  1996-03-30  1996-05-16               NONE      AIR   \n",
            "3        1996-03-30  1996-03-14  1996-04-01               NONE      FOB   \n",
            "4        1996-01-30  1996-02-07  1996-02-03  DELIVER IN PERSON     MAIL   \n",
            "5        1997-01-28  1997-01-14  1997-02-02   TAKE BACK RETURN     RAIL   \n",
            "6        1994-02-02  1994-01-04  1994-02-23               NONE      AIR   \n",
            "7        1993-11-09  1993-12-20  1993-11-24   TAKE BACK RETURN     RAIL   \n",
            "8        1994-01-16  1993-11-22  1994-01-23  DELIVER IN PERSON     SHIP   \n",
            "9        1993-12-04  1994-01-07  1994-01-01               NONE    TRUCK   \n",
            "10       1993-12-14  1994-01-10  1994-01-01   TAKE BACK RETURN      FOB   \n",
            "11       1993-10-29  1993-12-18  1993-11-04   TAKE BACK RETURN     RAIL   \n",
            "12       1996-01-10  1995-12-14  1996-01-18  DELIVER IN PERSON  REG AIR   \n",
            "13       1994-10-31  1994-08-31  1994-11-20               NONE      AIR   \n",
            "14       1994-10-16  1994-09-25  1994-10-19               NONE      FOB   \n",
            "15       1994-08-08  1994-10-13  1994-08-26  DELIVER IN PERSON      AIR   \n",
            "16       1992-04-27  1992-05-15  1992-05-02   TAKE BACK RETURN    TRUCK   \n",
            "17       1996-05-07  1996-03-13  1996-06-03   TAKE BACK RETURN      FOB   \n",
            "18       1996-02-01  1996-03-02  1996-02-19   TAKE BACK RETURN     SHIP   \n",
            "19       1996-01-15  1996-03-27  1996-02-03        COLLECT COD     MAIL   \n",
            "20       1996-03-21  1996-04-08  1996-04-20               NONE      FOB   \n",
            "21       1996-02-11  1996-02-24  1996-02-18  DELIVER IN PERSON    TRUCK   \n",
            "22       1996-01-16  1996-02-23  1996-01-22   TAKE BACK RETURN      FOB   \n",
            "23       1996-02-10  1996-03-26  1996-02-13               NONE      FOB   \n",
            "24       1995-10-23  1995-08-27  1995-10-26   TAKE BACK RETURN    TRUCK   \n",
            "25       1995-08-14  1995-10-07  1995-08-27        COLLECT COD      AIR   \n",
            "26       1995-08-07  1995-10-07  1995-08-23  DELIVER IN PERSON      AIR   \n",
            "27       1995-08-04  1995-10-01  1995-09-03               NONE  REG AIR   \n",
            "28       1995-08-28  1995-08-20  1995-09-14  DELIVER IN PERSON      AIR   \n",
            "29       1995-07-21  1995-09-23  1995-07-25        COLLECT COD     RAIL   \n",
            "...             ...         ...         ...                ...      ...   \n",
            "6001184  1993-01-03  1993-03-13  1993-01-05  DELIVER IN PERSON     RAIL   \n",
            "6001185  1993-01-15  1993-03-04  1993-02-08               NONE    TRUCK   \n",
            "6001186  1993-04-16  1993-02-10  1993-04-29        COLLECT COD     MAIL   \n",
            "6001187  1993-04-08  1993-03-24  1993-04-10               NONE    TRUCK   \n",
            "6001188  1993-01-14  1993-02-12  1993-01-31  DELIVER IN PERSON  REG AIR   \n",
            "6001189  1993-03-24  1993-02-16  1993-04-01  DELIVER IN PERSON      FOB   \n",
            "6001190  1993-03-12  1993-02-19  1993-04-09   TAKE BACK RETURN  REG AIR   \n",
            "6001191  1996-09-11  1996-07-22  1996-10-07               NONE     SHIP   \n",
            "6001192  1995-11-25  1996-02-09  1995-12-04  DELIVER IN PERSON     RAIL   \n",
            "6001193  1995-12-23  1996-02-16  1996-01-04   TAKE BACK RETURN     SHIP   \n",
            "6001194  1995-12-11  1996-01-06  1995-12-27               NONE      FOB   \n",
            "6001195  1996-02-08  1996-02-09  1996-02-15        COLLECT COD      FOB   \n",
            "6001196  1996-02-28  1996-01-12  1996-03-06  DELIVER IN PERSON      FOB   \n",
            "6001197  1996-10-02  1996-08-23  1996-10-09        COLLECT COD  REG AIR   \n",
            "6001198  1996-11-13  1996-09-04  1996-11-20  DELIVER IN PERSON      FOB   \n",
            "6001199  1996-08-30  1996-08-27  1996-09-16               NONE     MAIL   \n",
            "6001200  1996-11-02  1996-09-02  1996-11-25   TAKE BACK RETURN     RAIL   \n",
            "6001201  1996-09-20  1996-08-29  1996-10-05   TAKE BACK RETURN  REG AIR   \n",
            "6001202  1996-10-19  1996-08-24  1996-10-28  DELIVER IN PERSON     RAIL   \n",
            "6001203  1996-05-26  1996-06-28  1996-05-29               NONE     MAIL   \n",
            "6001204  1996-05-24  1996-07-22  1996-05-27        COLLECT COD     RAIL   \n",
            "6001205  1996-08-31  1996-06-02  1996-09-22  DELIVER IN PERSON     MAIL   \n",
            "6001206  1997-07-27  1997-09-07  1997-08-10   TAKE BACK RETURN      FOB   \n",
            "6001207  1993-08-15  1993-10-07  1993-09-01        COLLECT COD     MAIL   \n",
            "6001208  1993-09-16  1993-09-21  1993-10-02        COLLECT COD     RAIL   \n",
            "6001209  1993-10-07  1993-09-30  1993-10-21        COLLECT COD  REG AIR   \n",
            "6001210  1993-11-02  1993-09-23  1993-11-19  DELIVER IN PERSON     SHIP   \n",
            "6001211  1993-11-17  1993-08-28  1993-12-08  DELIVER IN PERSON      FOB   \n",
            "6001212  1996-11-02  1996-11-19  1996-12-01   TAKE BACK RETURN     MAIL   \n",
            "6001213  1996-09-22  1996-10-01  1996-10-21               NONE      AIR   \n",
            "\n",
            "                            egular courts above the  Unnamed: 16  \n",
            "0                ly final dependencies: slyly bold           NaN  \n",
            "1                     riously. regular, express dep          NaN  \n",
            "2                           lites. fluffily even de          NaN  \n",
            "3                           pending foxes. slyly re          NaN  \n",
            "4                                 arefully slyly ex          NaN  \n",
            "5                   ven requests. deposits breach a          NaN  \n",
            "6               ongside of the furiously brave acco          NaN  \n",
            "7                             unusual accounts. eve          NaN  \n",
            "8                                  nal foxes wake.           NaN  \n",
            "9                             y. fluffily pending d          NaN  \n",
            "10                           ages nag slyly pending          NaN  \n",
            "11                        ges sleep after the caref          NaN  \n",
            "12           - quickly regular packages sleep. idly          NaN  \n",
            "13                               ts wake furiously           NaN  \n",
            "14            sts use slyly quickly special instruc          NaN  \n",
            "15                      eodolites. fluffily unusual          NaN  \n",
            "16                        p furiously special foxes          NaN  \n",
            "17                   ss pinto beans wake against th          NaN  \n",
            "18                                 es. instructions          NaN  \n",
            "19                                   unusual reques          NaN  \n",
            "20                   . slyly special requests haggl          NaN  \n",
            "21          ns haggle carefully ironic deposits. bl          NaN  \n",
            "22       jole. excuses wake carefully alongside of           NaN  \n",
            "23                                    ithely regula          NaN  \n",
            "24                               sleep quickly. req          NaN  \n",
            "25              lithely regular deposits. fluffily           NaN  \n",
            "26           express accounts wake according to the          NaN  \n",
            "27                                e slyly final pac          NaN  \n",
            "28       symptotes nag according to the ironic depo          NaN  \n",
            "29                          gifts cajole carefully.          NaN  \n",
            "...                                             ...          ...  \n",
            "6001184                ickly bold foxes. blithely f          NaN  \n",
            "6001185                        yly express ideas. r          NaN  \n",
            "6001186     tions after the blithely express instru          NaN  \n",
            "6001187      nd the carefully bold pinto beans. flu          NaN  \n",
            "6001188                                  ions. slyl          NaN  \n",
            "6001189   ctions are furiously unusual hockey playe          NaN  \n",
            "6001190                      slyly final instructio          NaN  \n",
            "6001191                           ep slyly brave in          NaN  \n",
            "6001192            theodolites. express, ironic fox          NaN  \n",
            "6001193                 at quickly furiously expres          NaN  \n",
            "6001194                               iously along           NaN  \n",
            "6001195               slyly regular requests sleep           NaN  \n",
            "6001196                                 ve the clos          NaN  \n",
            "6001197                              lly according           NaN  \n",
            "6001198     e blithely after the carefully pending           NaN  \n",
            "6001199                  promise for the blithely r          NaN  \n",
            "6001200                      ckly above the boldly           NaN  \n",
            "6001201                place of the slyly quick pla          NaN  \n",
            "6001202            luffy theodolites nag boldly bli          NaN  \n",
            "6001203              s maintain carefully among the          NaN  \n",
            "6001204          the furiously express pearls. furi          NaN  \n",
            "6001205                            sual accounts al          NaN  \n",
            "6001206                             gular excuses.           NaN  \n",
            "6001207        express dependencies. express, pendi          NaN  \n",
            "6001208                                dolites wake          NaN  \n",
            "6001209                             tructions. excu          NaN  \n",
            "6001210                         lar pinto beans aft          NaN  \n",
            "6001211    , quick deposits. ironic, unusual deposi          NaN  \n",
            "6001212                                  carefully           NaN  \n",
            "6001213                 ooze furiously about the pe          NaN  \n",
            "\n",
            "[6001214 rows x 17 columns]\n"
          ],
          "name": "stdout"
        }
      ]
    },
    {
      "metadata": {
        "id": "uxrxf1PDT2A2",
        "colab_type": "code",
        "colab": {
          "base_uri": "https://localhost:8080/",
          "height": 35
        },
        "outputId": "b24be86b-4d46-497b-ff46-abb9c3c9f6d1"
      },
      "cell_type": "code",
      "source": [
        "len(np.unique(data.values[:,0]))"
      ],
      "execution_count": 18,
      "outputs": [
        {
          "output_type": "execute_result",
          "data": {
            "text/plain": [
              "1500000"
            ]
          },
          "metadata": {
            "tags": []
          },
          "execution_count": 18
        }
      ]
    },
    {
      "metadata": {
        "id": "FfbPquR_Utxq",
        "colab_type": "code",
        "colab": {}
      },
      "cell_type": "code",
      "source": [
        "import random"
      ],
      "execution_count": 0,
      "outputs": []
    },
    {
      "metadata": {
        "id": "K-q3lJ6NUvsS",
        "colab_type": "code",
        "colab": {
          "base_uri": "https://localhost:8080/",
          "height": 35
        },
        "outputId": "6e9cf600-5da3-440b-de02-50351e03b0b8"
      },
      "cell_type": "code",
      "source": [
        "from random import randint\n",
        "\n",
        "import random\n",
        "print( len(np.unique(random.sample(range(100000000), 6000000))))"
      ],
      "execution_count": 26,
      "outputs": [
        {
          "output_type": "stream",
          "text": [
            "6000000\n"
          ],
          "name": "stdout"
        }
      ]
    },
    {
      "metadata": {
        "id": "S-Fe8K9QVQHq",
        "colab_type": "code",
        "colab": {
          "base_uri": "https://localhost:8080/",
          "height": 35
        },
        "outputId": "b180ee70-dc8a-4b2b-f2e2-7e9760756117"
      },
      "cell_type": "code",
      "source": [
        "col_1 = data.values[:,0]\n",
        "col_2 = random.sample(range(100000000), 6001214)\n",
        "\n",
        "result = np.vstack((col_1, col_2))\n",
        "print(result.shape)"
      ],
      "execution_count": 33,
      "outputs": [
        {
          "output_type": "stream",
          "text": [
            "(2, 6001214)\n"
          ],
          "name": "stdout"
        }
      ]
    },
    {
      "metadata": {
        "id": "YopzbivjXWuY",
        "colab_type": "code",
        "colab": {
          "base_uri": "https://localhost:8080/",
          "height": 143
        },
        "outputId": "18e28600-aa49-44e2-c324-703195ebc10e"
      },
      "cell_type": "code",
      "source": [
        "np.transpose(result)"
      ],
      "execution_count": 36,
      "outputs": [
        {
          "output_type": "execute_result",
          "data": {
            "text/plain": [
              "array([[1, 12387315],\n",
              "       [1, 35341744],\n",
              "       [1, 67089743],\n",
              "       ...,\n",
              "       [5999975, 74502643],\n",
              "       [6000000, 28165275],\n",
              "       [6000000, 1611955]], dtype=object)"
            ]
          },
          "metadata": {
            "tags": []
          },
          "execution_count": 36
        }
      ]
    },
    {
      "metadata": {
        "id": "ipAUAJjQZZVY",
        "colab_type": "code",
        "colab": {}
      },
      "cell_type": "code",
      "source": [
        "np.savetxt(\"table.csv\",result, delimiter=\",\")"
      ],
      "execution_count": 0,
      "outputs": []
    },
    {
      "metadata": {
        "id": "-C6FAsYHZ5mj",
        "colab_type": "code",
        "colab": {}
      },
      "cell_type": "code",
      "source": [
        "!cat table.csv "
      ],
      "execution_count": 0,
      "outputs": []
    }
  ]
}